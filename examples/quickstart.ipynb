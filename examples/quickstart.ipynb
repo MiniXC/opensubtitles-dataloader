{
 "cells": [
  {
   "cell_type": "code",
   "execution_count": 1,
   "metadata": {},
   "outputs": [
    {
     "name": "stdout",
     "output_type": "stream",
     "text": [
      "/home/cdminix/.cache/opensubtitles/de\r\n",
      "Language de already downloaded.\r\n"
     ]
    }
   ],
   "source": [
    "!opensubtitles-download de"
   ]
  },
  {
   "cell_type": "code",
   "execution_count": 1,
   "metadata": {},
   "outputs": [],
   "source": [
    "from opensubtitles_dataloader import OpenSubtitlesDataset\n",
    "import numpy as np"
   ]
  },
  {
   "cell_type": "code",
   "execution_count": 2,
   "metadata": {},
   "outputs": [
    {
     "data": {
      "application/vnd.jupyter.widget-view+json": {
       "model_id": "af3bf9244b1647acb399dcaccd299c56",
       "version_major": 2,
       "version_minor": 0
      },
      "text/plain": [
       "HBox(children=(FloatProgress(value=1.0, bar_style='info', description='reading from file', layout=Layout(width…"
      ]
     },
     "metadata": {},
     "output_type": "display_data"
    },
    {
     "name": "stdout",
     "output_type": "stream",
     "text": [
      "\n"
     ]
    },
    {
     "data": {
      "application/vnd.jupyter.widget-view+json": {
       "model_id": "52666041f8b948818d2b51f6c42885fd",
       "version_major": 2,
       "version_minor": 0
      },
      "text/plain": [
       "HBox(children=(FloatProgress(value=0.0, description='converting to numpy array', max=20001.0, style=ProgressSt…"
      ]
     },
     "metadata": {},
     "output_type": "display_data"
    },
    {
     "name": "stdout",
     "output_type": "stream",
     "text": [
      "\n"
     ]
    }
   ],
   "source": [
    "dataset = OpenSubtitlesDataset('de', n_sents=(5,10), first_n_lines=20_000, overwrite=True)"
   ]
  },
  {
   "cell_type": "code",
   "execution_count": 4,
   "metadata": {},
   "outputs": [
    {
     "data": {
      "text/plain": [
       "'- Hallo . - Hallo . Willkommen zu Hause , Mann . Komm , setz dich und spiel uns was vor . - Wir zahlen mit Versprechen . - Die kann ein Mann nicht essen . Und nicht beim Kartenspiel verlieren . McLaine ! - Nein , das kann er nicht . - Wo warst du so lange und warum ?'"
      ]
     },
     "execution_count": 4,
     "metadata": {},
     "output_type": "execute_result"
    }
   ],
   "source": [
    "dataset[1]"
   ]
  },
  {
   "cell_type": "code",
   "execution_count": 6,
   "metadata": {
    "scrolled": true
   },
   "outputs": [],
   "source": [
    "train, test, valid = dataset.splits(seed=42)"
   ]
  },
  {
   "cell_type": "code",
   "execution_count": 8,
   "metadata": {},
   "outputs": [
    {
     "name": "stdout",
     "output_type": "stream",
     "text": [
      "Exakt 4 Minuten . Brauchten Sie ärztliche hilfe ? - Sir ? - Ich meine wegen der Schwester . Sehr raffiniert . Warden hatte Recht . Setzen Sie sich . Ich bat Sie hierher , damit Sie den vierten Mann für Ihr Team finden . - Mr. Joyce soll reinkommen .\n",
      "Und ruft Ihr Mann Sie nicht manchmal vom Büro aus an ? Das ist Erpressung . Ich werde sofort die Polizei anrufen . Genau das hat Myra Herbert auch gesagt . Getan hat sie es nicht . - Myra ? \n",
      "Ich will in Wien bleiben . Dann nehmen wir halt einen Verwalter . Einen Fremden auf dem Adlerhof ? Soll Poldi seine Laufbahn aufgeben ? Sag auch mal was ! Ja , ja . \n",
      "Ist es wieder dein Arm ? Ich weiß , dass ihr denken werdet , ich wäre verrückt , aber ich bekomme noch ein Baby . Wenn es überhaupt eine Chance haben soll , geboren zu werden , dann ... Ich meine , nachdem ich so viel Blut verloren habe und ... Und ich will dieses Baby , Papa . Mehr , als ich jemals etwas gewollt habe . \n",
      "Es ist bald so weit . Papa . - Wie funktioniert das ? - Gute alte Hexerei . Kikuyu sind sehr religiös . Sie fürchten Gott , aber sie vertrauen ihm auch . - Aber heißer Stahl ... - Verbrennt keine nasse Zunge . \n",
      "- ich erzähl ' s lhnen . Wie wär ' s mit ' m Bierchen ? - Dieses immer . Sie eilen in den Schoß ihrer Familie , sonst gibt ' s unnötige Verwicklungen . Ich komm erst nach ' m Abendessen . Ach , Frl . Thomas , ich hab ganz vergessen , am Nachmittag kam ein Telegramm für Sie . Nichts Wichtiges . - Woher wissen Sie das ? Ich habe es natürlich geöffnet .\n",
      "Äh , er ist eben abgerutscht mit einer reizenden Amerikanerin . Aha ! Sie sind doch nicht eifersüchtig ? Ich ? Wieso ? Wo ist denn Pips ? Ich glaube , er wollte zum See . Wollen wir auch ? Ich kann nicht Schlittschuh laufen . Ich auch nicht .\n",
      "Ihnen eine Lektion erteilen . Verdoppelt die Munitionsration . Wir marschieren nach Sand Creek . Ja , Sir . Das können Sie nicht tun . Vergessen Sie nicht wer Sie sind , Lieutenant . Abtreten . Wissen Sie was passiert , wenn wir friedliche Stämme angreifen ? \n",
      "Leg dich doch obendrauf und mach 31 Ziegen daraus . Und warum hat Peter wa Henry mich gewählt ? Er braucht eine , die Holz hackt und Kartoffeln erntet . Und eine , die sein Bett warm hält . - Er wird dich nicht oft schlagen . - Außer , es ist unbedingt nötig . - Er erwartet jedes Jahr ein Kind . \n",
      "PETER : Hallo . LITTLE JEFF : Hast du mein Gewehr ? FRAU : \n"
     ]
    }
   ],
   "source": [
    "for i in range(10):\n",
    "    print(test[i])"
   ]
  },
  {
   "cell_type": "code",
   "execution_count": 5,
   "metadata": {},
   "outputs": [
    {
     "ename": "NameError",
     "evalue": "name 'train' is not defined",
     "output_type": "error",
     "traceback": [
      "\u001b[0;31m---------------------------------------------------------------------------\u001b[0m",
      "\u001b[0;31mNameError\u001b[0m                                 Traceback (most recent call last)",
      "\u001b[0;32m<ipython-input-5-0467bad5b08d>\u001b[0m in \u001b[0;36m<module>\u001b[0;34m\u001b[0m\n\u001b[0;32m----> 1\u001b[0;31m \u001b[0mlen\u001b[0m\u001b[0;34m(\u001b[0m\u001b[0mtrain\u001b[0m\u001b[0;34m)\u001b[0m\u001b[0;34m\u001b[0m\u001b[0;34m\u001b[0m\u001b[0m\n\u001b[0m",
      "\u001b[0;31mNameError\u001b[0m: name 'train' is not defined"
     ]
    }
   ],
   "source": []
  },
  {
   "cell_type": "code",
   "execution_count": 19,
   "metadata": {},
   "outputs": [
    {
     "data": {
      "text/plain": [
       "('Das sind ... !\\n ?\\n !', 19)"
      ]
     },
     "execution_count": 19,
     "metadata": {},
     "output_type": "execute_result"
    }
   ],
   "source": [
    "test[3]"
   ]
  },
  {
   "cell_type": "code",
   "execution_count": 15,
   "metadata": {},
   "outputs": [],
   "source": [
    "import numpy as np"
   ]
  },
  {
   "cell_type": "code",
   "execution_count": 9,
   "metadata": {},
   "outputs": [
    {
     "data": {
      "text/plain": [
       "array([[0., 0.],\n",
       "       [0., 0.],\n",
       "       [1., 0.],\n",
       "       [1., 1.],\n",
       "       [1., 1.]])"
      ]
     },
     "execution_count": 9,
     "metadata": {},
     "output_type": "execute_result"
    }
   ],
   "source": [
    "np.tril(np.ones((5, 5)), -1)[:, 1:-2]"
   ]
  },
  {
   "cell_type": "code",
   "execution_count": 26,
   "metadata": {},
   "outputs": [
    {
     "data": {
      "text/plain": [
       "array([[1., 1.],\n",
       "       [1., 1.],\n",
       "       [0., 1.],\n",
       "       [0., 0.],\n",
       "       [0., 0.]])"
      ]
     },
     "execution_count": 26,
     "metadata": {},
     "output_type": "execute_result"
    }
   ],
   "source": [
    "np.triu(np.ones((5, 5)), 1)[:, 2:-1]"
   ]
  },
  {
   "cell_type": "code",
   "execution_count": 20,
   "metadata": {},
   "outputs": [
    {
     "data": {
      "text/plain": [
       "array([78., 51., 49., ..., 40., 20., 40.])"
      ]
     },
     "execution_count": 20,
     "metadata": {},
     "output_type": "execute_result"
    }
   ],
   "source": [
    "dataset._get_alt_lens()"
   ]
  },
  {
   "cell_type": "code",
   "execution_count": 12,
   "metadata": {},
   "outputs": [],
   "source": [
    "dataset.lenghts"
   ]
  },
  {
   "cell_type": "code",
   "execution_count": null,
   "metadata": {},
   "outputs": [],
   "source": []
  }
 ],
 "metadata": {
  "kernelspec": {
   "display_name": "Python 3",
   "language": "python",
   "name": "python3"
  },
  "language_info": {
   "codemirror_mode": {
    "name": "ipython",
    "version": 3
   },
   "file_extension": ".py",
   "mimetype": "text/x-python",
   "name": "python",
   "nbconvert_exporter": "python",
   "pygments_lexer": "ipython3",
   "version": "3.8.2"
  }
 },
 "nbformat": 4,
 "nbformat_minor": 4
}
