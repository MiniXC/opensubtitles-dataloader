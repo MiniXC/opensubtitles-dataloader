{
 "cells": [
  {
   "cell_type": "code",
   "execution_count": null,
   "metadata": {},
   "outputs": [],
   "source": [
    "!opensubtitles-download de"
   ]
  },
  {
   "cell_type": "code",
   "execution_count": 1,
   "metadata": {},
   "outputs": [],
   "source": [
    "from opensubtitles_dataloader import OpenSubtitlesDataset\n",
    "import numpy as np"
   ]
  },
  {
   "cell_type": "code",
   "execution_count": 2,
   "metadata": {},
   "outputs": [
    {
     "data": {
      "application/vnd.jupyter.widget-view+json": {
       "model_id": "0f12cdceb9a9434981bbff9a073aa7f2",
       "version_major": 2,
       "version_minor": 0
      },
      "text/plain": [
       "HBox(children=(FloatProgress(value=1.0, bar_style='info', description='reading from file', layout=Layout(width…"
      ]
     },
     "metadata": {},
     "output_type": "display_data"
    },
    {
     "name": "stdout",
     "output_type": "stream",
     "text": [
      "\n"
     ]
    },
    {
     "data": {
      "application/vnd.jupyter.widget-view+json": {
       "model_id": "5482f9bed6dc4cf3a1fd55c4d7851e55",
       "version_major": 2,
       "version_minor": 0
      },
      "text/plain": [
       "HBox(children=(FloatProgress(value=0.0, description='converting to numpy array', max=20001.0, style=ProgressSt…"
      ]
     },
     "metadata": {},
     "output_type": "display_data"
    },
    {
     "name": "stdout",
     "output_type": "stream",
     "text": [
      "\n"
     ]
    }
   ],
   "source": [
    "dataset = OpenSubtitlesDataset('de', n_sents=(5,10), first_n_lines=20_000, overwrite=True)"
   ]
  },
  {
   "cell_type": "code",
   "execution_count": 3,
   "metadata": {},
   "outputs": [
    {
     "data": {
      "text/plain": [
       "'- Hallo . - Hallo . Willkommen zu Hause , Mann . Komm , setz dich und spiel uns was vor . - Wir zahlen mit Versprechen . - Die kann ein Mann nicht essen . Und nicht beim Kartenspiel verlieren . McLaine ! - Nein , das kann er nicht . - Wo warst du so lange und warum ?'"
      ]
     },
     "execution_count": 3,
     "metadata": {},
     "output_type": "execute_result"
    }
   ],
   "source": [
    "dataset[1]"
   ]
  },
  {
   "cell_type": "code",
   "execution_count": 4,
   "metadata": {
    "scrolled": true
   },
   "outputs": [],
   "source": [
    "train, test, valid = dataset.splits(seed=42)"
   ]
  },
  {
   "cell_type": "code",
   "execution_count": 6,
   "metadata": {},
   "outputs": [],
   "source": [
    "from torch.utils.data import DataLoader\n",
    "train_loader = DataLoader(train, batch_size=16)"
   ]
  },
  {
   "cell_type": "code",
   "execution_count": 7,
   "metadata": {},
   "outputs": [
    {
     "name": "stdout",
     "output_type": "stream",
     "text": [
      "['Das ist sehr schön . Hier fühle ich mich wieder so frei wie in Possenhofen . In Österreich wäre es mir unmöglich , unbewacht durch einen Wald zu reiten . Da würden schon mindestens 20 Geheimpolizisten hinter Bäumen und Sträuchern stehen und aufpassen , daß mir nichts geschieht . Hier stehen Majestät unter meinem Schutz . Ja . Nicht nur die Freiheit allein macht mir den Aufenthalt in Ungarn so schön . Hier habe ich mein Kind ganz für mich . Die Kleine spricht schon etwas Ungarisch . ', 'Mir fällt jetzt nichts mehr ein . Außer dir ein langes und glückliches Leben zu wünschen . Danke ! Was ist passiert ? Der fluss ist gesunken . Man kann das kabel sehen . Die SprengIadung ! Nicht auf den Zug warten . Tu es jetzt ! ', 'Spielt er wirklich die Hauptrolle selber ? Ja , Büffel spielt Büffel . Ich finde es nicht richtig , wenn Regisseure im eigenen Film spielen . Ruhe ! Noch eine Probe ! - Abläuten ! * Signalton * Eine Probe , bitte ! So , jetzt näherkommen , Sonja . ', '- Ok , dear . Für dich ist eine Voranmeldung aus Hamburg da , Paul . Lass mal kommen , wird sicher Krämer sein . Wo ist denn Frl . Thomas ? ', 'Nein , danke . Whisky . original aus schottland . Ich trinke ihn lieber als Sake . Ich bin drei Jahre in London gewesen . ', 'Die Freude macht uns verrückt . Aber wir werden die Gefallenen nie vergessen . Die Zeit wird vergehen . Alles wird neu aufgebaut . Unsere Wunden werden geheilt . Aber der Hass gegen den Krieg wird ewig glühen ! Wir empfinden tiefen Beileid für diejenigen , die ihre Angehörigen nie mehr treffen werden . Und wir werden alles tun , damit die Bräute ihre Bräutigame nie verlieren , damit die Mütter um das Leben ihrer Kinder nie zittern , damit die mutigen Väter nie heimlich weinen müssen . ', 'Ihr habt die Brücke zu bauen bis zum 12. Mai . Ihr werdet arbeiten unter der Leitung eines japanischen Ingenieurs . Die Zeit ist kurz . alle müssen arbeiten . Auch eure Offiziere , ohne Ausnahme . Das ist nur gerecht denn sie haben euch verraten , aIs sie kapitulierten . Eure Schande ist ihre EhrIosigkeit . Sie waren es , die euch sagten \" Das Leben des KuIis ist besser als der Tod des helden . \" ', 'Käse ? Schweizer ? Nee ! Julchen , und nach dem Frühstück , da ... Da soll ich dann ... - Ja . Und da ...', 'Wo wir uns nun die Hand gereicht haben , hoffe ich , daß wir Freunde werden . Darf ich Eure Majestät zu Tisch bitten ? Ja , gerne . [ Musik spielt wieder ] Was sollen wir tun ? Jetzt müssen wir selbstverständlich bleiben . Franz Karl ? Ich muß mit dir sprechen . ', 'Armer , kleiner Wurm Ohne Vater , ohne Mutter . Der Herr Pfarrer wird sich kümmern . Angela war immer sein Liebling . Vielleicht findet sich auf diese Art der Vater . Gelobt sei Jesus Christus . ', 'Richtig ? Ist das nicht wahr ? Natürlich ! Aber die Polizei glaubte mir nicht . Sie hat mich vielleicht nicht richtig verstanden . Ich bin Ausländerin . Jede Zeugen-Aussage hat Bedeutung . Man kann sie übersetzen . Auch die Sprache der Taubstummen wird bei uns anerkannt . ', '- Das hilft nicht , Veronika . - Fünfzehn , sechzehn ... - Das ist doch Wahnsinn . - Neunzehn , zwanzig ... - Hören Sie auf ! Siebenundvierzig , achtundvierzig ... - Guten Tag . - Guten Tag .', 'Dann werde ich mich mal wieder um Ihr Anliegen kümmern . Mrs. Brenner . Ich werde jetzt in den Keller gehen und dann kann ich Ihnen einen Preis sagen . Ich denke , ich weiß jetzt , woran es liegt . - Das ist schnell behoben . - Wie viel wird es kosten ? Das ist eine wirklich umwerfende Küche . Nicht viele könnten sich so eine leisten . - $ 599 . ', 'Wo ? Wahrscheinlich bei Antonina Monastyrskaja . - Wer ist sie ? - Frag Mark danach . - Sag schon ! - Hör auf zu kommandieren . Mark besucht sie manchmal ... Verstanden ? - Du lügst . - Wozu denn ?', '- Wie eine glückliche Ehefrau sieht sie nun wirklich nicht aus . - Danke . - Hallo , Ann ! - Haben diese Frauen über mich geredet , Margot ? Diese Frauen reden über jeden . Sie meinen es nicht böse . - Ignoriere sie einfach .', \"- halten Sie den Mund . Ich kann darauf laufen . Darauf kommt ' s an . Ja , aber wie weit und wie schnell ? Das sehen wir , wenn ich ' s versucht habe , oder ? Was tun Sie da ? Ich gab keinen befehl zur Pause . Wir brauchen alle eine Pause . \"]\n"
     ]
    }
   ],
   "source": [
    "for batch in train_loader:\n",
    "    print(batch)\n",
    "    break"
   ]
  }
 ],
 "metadata": {
  "kernelspec": {
   "display_name": "Python 3",
   "language": "python",
   "name": "python3"
  },
  "language_info": {
   "codemirror_mode": {
    "name": "ipython",
    "version": 3
   },
   "file_extension": ".py",
   "mimetype": "text/x-python",
   "name": "python",
   "nbconvert_exporter": "python",
   "pygments_lexer": "ipython3",
   "version": "3.8.2"
  }
 },
 "nbformat": 4,
 "nbformat_minor": 4
}
